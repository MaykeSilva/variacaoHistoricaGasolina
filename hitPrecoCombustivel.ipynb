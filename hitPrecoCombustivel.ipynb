{
 "cells": [
  {
   "cell_type": "markdown",
   "metadata": {},
   "source": [
    "#### OBJETIVO"
   ]
  },
  {
   "cell_type": "markdown",
   "metadata": {},
   "source": [
    "> Explorar os dados historicos de gasolina no Brasil, verificar os principais players do mercado, a relação <br/>\n",
    "> de preço do litro com o salário mínimo do mesmo período. Verificaremos também os estados com os maiores <br/>\n",
    "> e menores valores do seguimento, estados com mais pesquisa e preço médio por bandeiras."
   ]
  },
  {
   "cell_type": "markdown",
   "metadata": {},
   "source": [
    "#### FONTE DE DADOS"
   ]
  },
  {
   "cell_type": "markdown",
   "metadata": {},
   "source": [
    "> Historico de Salários :: https://www.contabeis.com.br/tabelas/salario-minimo/ <br/>\n",
    "> Histórico Preço dos Combustíveis :: https://basedosdados.org/dataset/br-anp-precos-combustiveis"
   ]
  },
  {
   "cell_type": "markdown",
   "metadata": {},
   "source": [
    "#### BIBLIOTECAS"
   ]
  },
  {
   "cell_type": "code",
   "execution_count": 1,
   "metadata": {},
   "outputs": [],
   "source": [
    "import pandas as pd\n",
    "import numpy as np\n",
    "import seaborn as sns\n",
    "import matplotlib.pyplot as plt"
   ]
  },
  {
   "cell_type": "markdown",
   "metadata": {},
   "source": [
    "#### CARREGAR DADOS"
   ]
  },
  {
   "cell_type": "markdown",
   "metadata": {},
   "source": [
    "##### DADOS COMBUSTIVEL"
   ]
  },
  {
   "cell_type": "code",
   "execution_count": 2,
   "metadata": {},
   "outputs": [],
   "source": [
    "df_combustivel = pd.read_csv('histCombustivel.csv', sep = ',')"
   ]
  },
  {
   "cell_type": "code",
   "execution_count": 3,
   "metadata": {},
   "outputs": [
    {
     "data": {
      "text/plain": [
       "(26514824, 14)"
      ]
     },
     "execution_count": 3,
     "metadata": {},
     "output_type": "execute_result"
    }
   ],
   "source": [
    "# TAMANHO DOS DADOS\n",
    "df_combustivel.shape"
   ]
  },
  {
   "cell_type": "code",
   "execution_count": 4,
   "metadata": {},
   "outputs": [
    {
     "data": {
      "text/html": [
       "<div>\n",
       "<style scoped>\n",
       "    .dataframe tbody tr th:only-of-type {\n",
       "        vertical-align: middle;\n",
       "    }\n",
       "\n",
       "    .dataframe tbody tr th {\n",
       "        vertical-align: top;\n",
       "    }\n",
       "\n",
       "    .dataframe thead th {\n",
       "        text-align: right;\n",
       "    }\n",
       "</style>\n",
       "<table border=\"1\" class=\"dataframe\">\n",
       "  <thead>\n",
       "    <tr style=\"text-align: right;\">\n",
       "      <th></th>\n",
       "      <th>ano</th>\n",
       "      <th>sigla_uf</th>\n",
       "      <th>id_municipio</th>\n",
       "      <th>bairro_revenda</th>\n",
       "      <th>cep_revenda</th>\n",
       "      <th>endereco_revenda</th>\n",
       "      <th>cnpj_revenda</th>\n",
       "      <th>nome_estabelecimento</th>\n",
       "      <th>bandeira_revenda</th>\n",
       "      <th>data_coleta</th>\n",
       "      <th>produto</th>\n",
       "      <th>unidade_medida</th>\n",
       "      <th>preco_compra</th>\n",
       "      <th>preco_venda</th>\n",
       "    </tr>\n",
       "  </thead>\n",
       "  <tbody>\n",
       "    <tr>\n",
       "      <th>0</th>\n",
       "      <td>2004</td>\n",
       "      <td>MG</td>\n",
       "      <td>3170701</td>\n",
       "      <td>CENTRO</td>\n",
       "      <td>37002-040</td>\n",
       "      <td>PRACA MARECHAL FLORIANO,100</td>\n",
       "      <td>86.437.472/0001-21</td>\n",
       "      <td>SANTA LUIZA DERIVADOS DE PETROLEO LTDA</td>\n",
       "      <td>BRANCA</td>\n",
       "      <td>2004-05-10</td>\n",
       "      <td>etanol</td>\n",
       "      <td>R$/litro</td>\n",
       "      <td>0.9367</td>\n",
       "      <td>1.280</td>\n",
       "    </tr>\n",
       "    <tr>\n",
       "      <th>1</th>\n",
       "      <td>2004</td>\n",
       "      <td>SP</td>\n",
       "      <td>3554102</td>\n",
       "      <td>VILA SAO JOSE</td>\n",
       "      <td>12070-590</td>\n",
       "      <td>AVENIDA DOM DUARTE LEOPOLDO E SILVA,501</td>\n",
       "      <td>03.842.497/0001-83</td>\n",
       "      <td>AUTO POSTO ANA ROSA TAUBATE LTDA - EPP</td>\n",
       "      <td>ALE COMBUSTÍVEIS</td>\n",
       "      <td>2004-05-10</td>\n",
       "      <td>gasolina</td>\n",
       "      <td>R$/litro</td>\n",
       "      <td>1.7020</td>\n",
       "      <td>1.899</td>\n",
       "    </tr>\n",
       "    <tr>\n",
       "      <th>2</th>\n",
       "      <td>2004</td>\n",
       "      <td>SP</td>\n",
       "      <td>3554102</td>\n",
       "      <td>PARQUE SAO LUIS</td>\n",
       "      <td>12061-600</td>\n",
       "      <td>RUA PADRE  FISCHER,1487</td>\n",
       "      <td>01.583.271/0001-80</td>\n",
       "      <td>ABOU HALA &amp; IBANHES AUTO POSTO LTDA.</td>\n",
       "      <td>BRANCA</td>\n",
       "      <td>2004-05-10</td>\n",
       "      <td>diesel</td>\n",
       "      <td>R$/litro</td>\n",
       "      <td>NaN</td>\n",
       "      <td>1.399</td>\n",
       "    </tr>\n",
       "  </tbody>\n",
       "</table>\n",
       "</div>"
      ],
      "text/plain": [
       "    ano sigla_uf  id_municipio   bairro_revenda cep_revenda  \\\n",
       "0  2004       MG       3170701           CENTRO   37002-040   \n",
       "1  2004       SP       3554102    VILA SAO JOSE   12070-590   \n",
       "2  2004       SP       3554102  PARQUE SAO LUIS   12061-600   \n",
       "\n",
       "                           endereco_revenda         cnpj_revenda  \\\n",
       "0              PRACA MARECHAL FLORIANO,100    86.437.472/0001-21   \n",
       "1  AVENIDA DOM DUARTE LEOPOLDO E SILVA,501    03.842.497/0001-83   \n",
       "2                  RUA PADRE  FISCHER,1487    01.583.271/0001-80   \n",
       "\n",
       "                     nome_estabelecimento  bandeira_revenda data_coleta  \\\n",
       "0  SANTA LUIZA DERIVADOS DE PETROLEO LTDA            BRANCA  2004-05-10   \n",
       "1  AUTO POSTO ANA ROSA TAUBATE LTDA - EPP  ALE COMBUSTÍVEIS  2004-05-10   \n",
       "2    ABOU HALA & IBANHES AUTO POSTO LTDA.            BRANCA  2004-05-10   \n",
       "\n",
       "    produto unidade_medida  preco_compra  preco_venda  \n",
       "0    etanol       R$/litro        0.9367        1.280  \n",
       "1  gasolina       R$/litro        1.7020        1.899  \n",
       "2    diesel       R$/litro           NaN        1.399  "
      ]
     },
     "execution_count": 4,
     "metadata": {},
     "output_type": "execute_result"
    }
   ],
   "source": [
    "df_combustivel.head(3)"
   ]
  },
  {
   "cell_type": "markdown",
   "metadata": {},
   "source": [
    "##### DADOS SALARIO MINIMO"
   ]
  },
  {
   "cell_type": "code",
   "execution_count": 54,
   "metadata": {},
   "outputs": [
    {
     "data": {
      "text/html": [
       "<div>\n",
       "<style scoped>\n",
       "    .dataframe tbody tr th:only-of-type {\n",
       "        vertical-align: middle;\n",
       "    }\n",
       "\n",
       "    .dataframe tbody tr th {\n",
       "        vertical-align: top;\n",
       "    }\n",
       "\n",
       "    .dataframe thead th {\n",
       "        text-align: right;\n",
       "    }\n",
       "</style>\n",
       "<table border=\"1\" class=\"dataframe\">\n",
       "  <thead>\n",
       "    <tr style=\"text-align: right;\">\n",
       "      <th></th>\n",
       "      <th>Ano</th>\n",
       "      <th>Valor</th>\n",
       "    </tr>\n",
       "  </thead>\n",
       "  <tbody>\n",
       "    <tr>\n",
       "      <th>0</th>\n",
       "      <td>2021</td>\n",
       "      <td>1100</td>\n",
       "    </tr>\n",
       "    <tr>\n",
       "      <th>1</th>\n",
       "      <td>2020</td>\n",
       "      <td>1045</td>\n",
       "    </tr>\n",
       "    <tr>\n",
       "      <th>2</th>\n",
       "      <td>2019</td>\n",
       "      <td>998</td>\n",
       "    </tr>\n",
       "  </tbody>\n",
       "</table>\n",
       "</div>"
      ],
      "text/plain": [
       "    Ano  Valor\n",
       "0  2021   1100\n",
       "1  2020   1045\n",
       "2  2019    998"
      ]
     },
     "metadata": {},
     "output_type": "display_data"
    },
    {
     "data": {
      "text/plain": [
       "(19, 2)"
      ]
     },
     "metadata": {},
     "output_type": "display_data"
    }
   ],
   "source": [
    "df_salario = pd.read_excel('histSalarioMinimo.xlsx', usecols = ['Ano', 'Valor'])\n",
    "display(df_salario.head(3))\n",
    "display(df_salario.shape)"
   ]
  },
  {
   "cell_type": "markdown",
   "metadata": {},
   "source": [
    "#### PREPARAÇÃO DOS DADOS"
   ]
  },
  {
   "cell_type": "markdown",
   "metadata": {},
   "source": [
    "> Para fazer a comparação do salário mínimo com o preço do combutível, é necessário juntar os dados <br/>\n",
    "> em um só data frame levando em consideração o ano. <br/><br/>\n",
    "\n",
    "> A granularidade das variáveis \"SALARIO\" e \"GASOLINA\" são diferentes, uma é anual e a outra <br/>\n",
    "> mensal, respectivamente, dessa forma é necessário sumarizar os dados da gasolina levando para a <br/>\n",
    "> mesma granularidade do salario, que nesse caso é anual. Diante do exposto, vamos utilizar a média <br/>\n",
    "> da gasolina para termos o valor anual.\n"
   ]
  },
  {
   "cell_type": "code",
   "execution_count": 55,
   "metadata": {},
   "outputs": [
    {
     "data": {
      "text/plain": [
       "gasolina              7066140\n",
       "etanol                6554200\n",
       "glp                   5413252\n",
       "diesel                5231119\n",
       "diesel s10            1670878\n",
       "gnv                    405778\n",
       "gasolina aditivada     128961\n",
       "diesel s50              44495\n",
       "etano                       1\n",
       "Name: produto, dtype: int64"
      ]
     },
     "execution_count": 55,
     "metadata": {},
     "output_type": "execute_result"
    }
   ],
   "source": [
    "# TIPOS DE COMBUSTIVEIS\n",
    "df_combustivel.produto.value_counts()"
   ]
  },
  {
   "cell_type": "markdown",
   "metadata": {},
   "source": [
    "> Vamos filtrar os dados e seguir somente com as informações do combustível GASOLINA"
   ]
  },
  {
   "cell_type": "code",
   "execution_count": 56,
   "metadata": {},
   "outputs": [
    {
     "data": {
      "text/plain": [
       "(7066140, 14)"
      ]
     },
     "execution_count": 56,
     "metadata": {},
     "output_type": "execute_result"
    }
   ],
   "source": [
    "# FILTRANDO OS DADOS APENAS PARA GASOLINA E CRIANDO UM NOVO DATA SET\n",
    "df_gasolina = df_combustivel[df_combustivel['produto'] == 'gasolina']\n",
    "# CONFIRMANDO O TAMANHO DO DATA SET\n",
    "df_gasolina.shape"
   ]
  },
  {
   "cell_type": "markdown",
   "metadata": {},
   "source": [
    "> Definindo uma variável com as colunas que preciso, em seguida utilizo a variável no data set, retornando somente as colunas necessárias"
   ]
  },
  {
   "cell_type": "code",
   "execution_count": 57,
   "metadata": {},
   "outputs": [
    {
     "data": {
      "text/html": [
       "<div>\n",
       "<style scoped>\n",
       "    .dataframe tbody tr th:only-of-type {\n",
       "        vertical-align: middle;\n",
       "    }\n",
       "\n",
       "    .dataframe tbody tr th {\n",
       "        vertical-align: top;\n",
       "    }\n",
       "\n",
       "    .dataframe thead th {\n",
       "        text-align: right;\n",
       "    }\n",
       "</style>\n",
       "<table border=\"1\" class=\"dataframe\">\n",
       "  <thead>\n",
       "    <tr style=\"text-align: right;\">\n",
       "      <th></th>\n",
       "      <th>ano</th>\n",
       "      <th>sigla_uf</th>\n",
       "      <th>bairro_revenda</th>\n",
       "      <th>cep_revenda</th>\n",
       "      <th>bandeira_revenda</th>\n",
       "      <th>data_coleta</th>\n",
       "      <th>preco_venda</th>\n",
       "    </tr>\n",
       "  </thead>\n",
       "  <tbody>\n",
       "    <tr>\n",
       "      <th>1</th>\n",
       "      <td>2004</td>\n",
       "      <td>SP</td>\n",
       "      <td>VILA SAO JOSE</td>\n",
       "      <td>12070-590</td>\n",
       "      <td>ALE COMBUSTÍVEIS</td>\n",
       "      <td>2004-05-10</td>\n",
       "      <td>1.899</td>\n",
       "    </tr>\n",
       "    <tr>\n",
       "      <th>4</th>\n",
       "      <td>2004</td>\n",
       "      <td>SP</td>\n",
       "      <td>PARQUE SAO LUIS</td>\n",
       "      <td>12061-600</td>\n",
       "      <td>BRANCA</td>\n",
       "      <td>2004-05-10</td>\n",
       "      <td>1.899</td>\n",
       "    </tr>\n",
       "    <tr>\n",
       "      <th>8</th>\n",
       "      <td>2004</td>\n",
       "      <td>SP</td>\n",
       "      <td>INDEPENDÊNCIA</td>\n",
       "      <td>12091-000</td>\n",
       "      <td>PETROBRAS DISTRIBUIDORA S.A.</td>\n",
       "      <td>2004-05-10</td>\n",
       "      <td>1.959</td>\n",
       "    </tr>\n",
       "  </tbody>\n",
       "</table>\n",
       "</div>"
      ],
      "text/plain": [
       "    ano sigla_uf   bairro_revenda cep_revenda              bandeira_revenda  \\\n",
       "1  2004       SP    VILA SAO JOSE   12070-590              ALE COMBUSTÍVEIS   \n",
       "4  2004       SP  PARQUE SAO LUIS   12061-600                        BRANCA   \n",
       "8  2004       SP    INDEPENDÊNCIA   12091-000  PETROBRAS DISTRIBUIDORA S.A.   \n",
       "\n",
       "  data_coleta  preco_venda  \n",
       "1  2004-05-10        1.899  \n",
       "4  2004-05-10        1.899  \n",
       "8  2004-05-10        1.959  "
      ]
     },
     "execution_count": 57,
     "metadata": {},
     "output_type": "execute_result"
    }
   ],
   "source": [
    "columns = [ 'ano',\n",
    "            'sigla_uf',\n",
    "            'bairro_revenda',\n",
    "            'cep_revenda',\n",
    "            'bandeira_revenda',\n",
    "            'data_coleta',\n",
    "            'preco_venda'\n",
    "]\n",
    "\n",
    "df_gasolina = df_gasolina[columns]\n",
    "df_gasolina.head(3)"
   ]
  },
  {
   "cell_type": "markdown",
   "metadata": {},
   "source": [
    "> Sumarizar os dados do preço do combustivel por ano. O resultado será a média."
   ]
  },
  {
   "cell_type": "code",
   "execution_count": 58,
   "metadata": {},
   "outputs": [
    {
     "data": {
      "text/html": [
       "<div>\n",
       "<style scoped>\n",
       "    .dataframe tbody tr th:only-of-type {\n",
       "        vertical-align: middle;\n",
       "    }\n",
       "\n",
       "    .dataframe tbody tr th {\n",
       "        vertical-align: top;\n",
       "    }\n",
       "\n",
       "    .dataframe thead th {\n",
       "        text-align: right;\n",
       "    }\n",
       "</style>\n",
       "<table border=\"1\" class=\"dataframe\">\n",
       "  <thead>\n",
       "    <tr style=\"text-align: right;\">\n",
       "      <th></th>\n",
       "      <th>ano</th>\n",
       "      <th>preco_venda</th>\n",
       "    </tr>\n",
       "  </thead>\n",
       "  <tbody>\n",
       "    <tr>\n",
       "      <th>0</th>\n",
       "      <td>2004</td>\n",
       "      <td>2.14</td>\n",
       "    </tr>\n",
       "    <tr>\n",
       "      <th>1</th>\n",
       "      <td>2005</td>\n",
       "      <td>2.36</td>\n",
       "    </tr>\n",
       "    <tr>\n",
       "      <th>2</th>\n",
       "      <td>2006</td>\n",
       "      <td>2.59</td>\n",
       "    </tr>\n",
       "    <tr>\n",
       "      <th>3</th>\n",
       "      <td>2007</td>\n",
       "      <td>2.55</td>\n",
       "    </tr>\n",
       "    <tr>\n",
       "      <th>4</th>\n",
       "      <td>2008</td>\n",
       "      <td>2.54</td>\n",
       "    </tr>\n",
       "    <tr>\n",
       "      <th>5</th>\n",
       "      <td>2009</td>\n",
       "      <td>2.55</td>\n",
       "    </tr>\n",
       "    <tr>\n",
       "      <th>6</th>\n",
       "      <td>2010</td>\n",
       "      <td>2.60</td>\n",
       "    </tr>\n",
       "    <tr>\n",
       "      <th>7</th>\n",
       "      <td>2011</td>\n",
       "      <td>2.76</td>\n",
       "    </tr>\n",
       "    <tr>\n",
       "      <th>8</th>\n",
       "      <td>2012</td>\n",
       "      <td>2.77</td>\n",
       "    </tr>\n",
       "    <tr>\n",
       "      <th>9</th>\n",
       "      <td>2013</td>\n",
       "      <td>2.89</td>\n",
       "    </tr>\n",
       "    <tr>\n",
       "      <th>10</th>\n",
       "      <td>2014</td>\n",
       "      <td>3.01</td>\n",
       "    </tr>\n",
       "    <tr>\n",
       "      <th>11</th>\n",
       "      <td>2015</td>\n",
       "      <td>3.35</td>\n",
       "    </tr>\n",
       "    <tr>\n",
       "      <th>12</th>\n",
       "      <td>2016</td>\n",
       "      <td>3.73</td>\n",
       "    </tr>\n",
       "    <tr>\n",
       "      <th>13</th>\n",
       "      <td>2017</td>\n",
       "      <td>3.77</td>\n",
       "    </tr>\n",
       "    <tr>\n",
       "      <th>14</th>\n",
       "      <td>2018</td>\n",
       "      <td>4.45</td>\n",
       "    </tr>\n",
       "    <tr>\n",
       "      <th>15</th>\n",
       "      <td>2019</td>\n",
       "      <td>4.42</td>\n",
       "    </tr>\n",
       "    <tr>\n",
       "      <th>16</th>\n",
       "      <td>2020</td>\n",
       "      <td>4.28</td>\n",
       "    </tr>\n",
       "    <tr>\n",
       "      <th>17</th>\n",
       "      <td>2021</td>\n",
       "      <td>5.63</td>\n",
       "    </tr>\n",
       "  </tbody>\n",
       "</table>\n",
       "</div>"
      ],
      "text/plain": [
       "     ano  preco_venda\n",
       "0   2004         2.14\n",
       "1   2005         2.36\n",
       "2   2006         2.59\n",
       "3   2007         2.55\n",
       "4   2008         2.54\n",
       "5   2009         2.55\n",
       "6   2010         2.60\n",
       "7   2011         2.76\n",
       "8   2012         2.77\n",
       "9   2013         2.89\n",
       "10  2014         3.01\n",
       "11  2015         3.35\n",
       "12  2016         3.73\n",
       "13  2017         3.77\n",
       "14  2018         4.45\n",
       "15  2019         4.42\n",
       "16  2020         4.28\n",
       "17  2021         5.63"
      ]
     },
     "execution_count": 58,
     "metadata": {},
     "output_type": "execute_result"
    }
   ],
   "source": [
    "# AGRUPAR OS DADOS POR ANO, O VALOR FINAL DO ANO SERÁ A MÉDIA\n",
    "df_gasolina_agrup_ano = df_gasolina.groupby(by = 'ano').agg({'preco_venda': 'mean'}).reset_index()\n",
    "# ARREDONDAR O VALOR DO COMBUSTIVEL PARA DUAS CASAS DECIMAIS\n",
    "df_gasolina_agrup_ano.preco_venda = df_gasolina_agrup_ano.preco_venda.apply(lambda x: round(x, 2))\n",
    "df_gasolina_agrup_ano"
   ]
  },
  {
   "cell_type": "markdown",
   "metadata": {},
   "source": [
    "> Junção dos preços do combustivel e salario mínimo"
   ]
  },
  {
   "cell_type": "code",
   "execution_count": 59,
   "metadata": {},
   "outputs": [
    {
     "data": {
      "text/html": [
       "<div>\n",
       "<style scoped>\n",
       "    .dataframe tbody tr th:only-of-type {\n",
       "        vertical-align: middle;\n",
       "    }\n",
       "\n",
       "    .dataframe tbody tr th {\n",
       "        vertical-align: top;\n",
       "    }\n",
       "\n",
       "    .dataframe thead th {\n",
       "        text-align: right;\n",
       "    }\n",
       "</style>\n",
       "<table border=\"1\" class=\"dataframe\">\n",
       "  <thead>\n",
       "    <tr style=\"text-align: right;\">\n",
       "      <th></th>\n",
       "      <th>ano</th>\n",
       "      <th>preco_venda</th>\n",
       "    </tr>\n",
       "  </thead>\n",
       "  <tbody>\n",
       "    <tr>\n",
       "      <th>0</th>\n",
       "      <td>2004</td>\n",
       "      <td>2.14</td>\n",
       "    </tr>\n",
       "    <tr>\n",
       "      <th>1</th>\n",
       "      <td>2005</td>\n",
       "      <td>2.36</td>\n",
       "    </tr>\n",
       "  </tbody>\n",
       "</table>\n",
       "</div>"
      ],
      "text/plain": [
       "    ano  preco_venda\n",
       "0  2004         2.14\n",
       "1  2005         2.36"
      ]
     },
     "metadata": {},
     "output_type": "display_data"
    },
    {
     "data": {
      "text/html": [
       "<div>\n",
       "<style scoped>\n",
       "    .dataframe tbody tr th:only-of-type {\n",
       "        vertical-align: middle;\n",
       "    }\n",
       "\n",
       "    .dataframe tbody tr th {\n",
       "        vertical-align: top;\n",
       "    }\n",
       "\n",
       "    .dataframe thead th {\n",
       "        text-align: right;\n",
       "    }\n",
       "</style>\n",
       "<table border=\"1\" class=\"dataframe\">\n",
       "  <thead>\n",
       "    <tr style=\"text-align: right;\">\n",
       "      <th></th>\n",
       "      <th>Ano</th>\n",
       "      <th>Valor</th>\n",
       "    </tr>\n",
       "  </thead>\n",
       "  <tbody>\n",
       "    <tr>\n",
       "      <th>0</th>\n",
       "      <td>2021</td>\n",
       "      <td>1100</td>\n",
       "    </tr>\n",
       "    <tr>\n",
       "      <th>1</th>\n",
       "      <td>2020</td>\n",
       "      <td>1045</td>\n",
       "    </tr>\n",
       "  </tbody>\n",
       "</table>\n",
       "</div>"
      ],
      "text/plain": [
       "    Ano  Valor\n",
       "0  2021   1100\n",
       "1  2020   1045"
      ]
     },
     "metadata": {},
     "output_type": "display_data"
    }
   ],
   "source": [
    "display(df_gasolina_agrup_ano.head(2))\n",
    "display(df_salario.head(2))"
   ]
  },
  {
   "cell_type": "markdown",
   "metadata": {},
   "source": [
    "> Junção dos dados em um só data frame"
   ]
  },
  {
   "cell_type": "code",
   "execution_count": 60,
   "metadata": {},
   "outputs": [
    {
     "data": {
      "text/html": [
       "<div>\n",
       "<style scoped>\n",
       "    .dataframe tbody tr th:only-of-type {\n",
       "        vertical-align: middle;\n",
       "    }\n",
       "\n",
       "    .dataframe tbody tr th {\n",
       "        vertical-align: top;\n",
       "    }\n",
       "\n",
       "    .dataframe thead th {\n",
       "        text-align: right;\n",
       "    }\n",
       "</style>\n",
       "<table border=\"1\" class=\"dataframe\">\n",
       "  <thead>\n",
       "    <tr style=\"text-align: right;\">\n",
       "      <th></th>\n",
       "      <th>ano</th>\n",
       "      <th>preco_venda</th>\n",
       "      <th>Ano</th>\n",
       "      <th>Valor</th>\n",
       "    </tr>\n",
       "  </thead>\n",
       "  <tbody>\n",
       "    <tr>\n",
       "      <th>0</th>\n",
       "      <td>2004</td>\n",
       "      <td>2.14</td>\n",
       "      <td>2004</td>\n",
       "      <td>260</td>\n",
       "    </tr>\n",
       "    <tr>\n",
       "      <th>1</th>\n",
       "      <td>2005</td>\n",
       "      <td>2.36</td>\n",
       "      <td>2005</td>\n",
       "      <td>300</td>\n",
       "    </tr>\n",
       "    <tr>\n",
       "      <th>2</th>\n",
       "      <td>2006</td>\n",
       "      <td>2.59</td>\n",
       "      <td>2006</td>\n",
       "      <td>350</td>\n",
       "    </tr>\n",
       "    <tr>\n",
       "      <th>3</th>\n",
       "      <td>2007</td>\n",
       "      <td>2.55</td>\n",
       "      <td>2007</td>\n",
       "      <td>380</td>\n",
       "    </tr>\n",
       "    <tr>\n",
       "      <th>4</th>\n",
       "      <td>2008</td>\n",
       "      <td>2.54</td>\n",
       "      <td>2008</td>\n",
       "      <td>415</td>\n",
       "    </tr>\n",
       "    <tr>\n",
       "      <th>5</th>\n",
       "      <td>2009</td>\n",
       "      <td>2.55</td>\n",
       "      <td>2009</td>\n",
       "      <td>465</td>\n",
       "    </tr>\n",
       "    <tr>\n",
       "      <th>6</th>\n",
       "      <td>2010</td>\n",
       "      <td>2.60</td>\n",
       "      <td>2010</td>\n",
       "      <td>510</td>\n",
       "    </tr>\n",
       "    <tr>\n",
       "      <th>7</th>\n",
       "      <td>2011</td>\n",
       "      <td>2.76</td>\n",
       "      <td>2011</td>\n",
       "      <td>545</td>\n",
       "    </tr>\n",
       "    <tr>\n",
       "      <th>8</th>\n",
       "      <td>2011</td>\n",
       "      <td>2.76</td>\n",
       "      <td>2011</td>\n",
       "      <td>540</td>\n",
       "    </tr>\n",
       "    <tr>\n",
       "      <th>9</th>\n",
       "      <td>2012</td>\n",
       "      <td>2.77</td>\n",
       "      <td>2012</td>\n",
       "      <td>622</td>\n",
       "    </tr>\n",
       "    <tr>\n",
       "      <th>10</th>\n",
       "      <td>2013</td>\n",
       "      <td>2.89</td>\n",
       "      <td>2013</td>\n",
       "      <td>678</td>\n",
       "    </tr>\n",
       "    <tr>\n",
       "      <th>11</th>\n",
       "      <td>2014</td>\n",
       "      <td>3.01</td>\n",
       "      <td>2014</td>\n",
       "      <td>724</td>\n",
       "    </tr>\n",
       "    <tr>\n",
       "      <th>12</th>\n",
       "      <td>2015</td>\n",
       "      <td>3.35</td>\n",
       "      <td>2015</td>\n",
       "      <td>788</td>\n",
       "    </tr>\n",
       "    <tr>\n",
       "      <th>13</th>\n",
       "      <td>2016</td>\n",
       "      <td>3.73</td>\n",
       "      <td>2016</td>\n",
       "      <td>880</td>\n",
       "    </tr>\n",
       "    <tr>\n",
       "      <th>14</th>\n",
       "      <td>2017</td>\n",
       "      <td>3.77</td>\n",
       "      <td>2017</td>\n",
       "      <td>937</td>\n",
       "    </tr>\n",
       "    <tr>\n",
       "      <th>15</th>\n",
       "      <td>2018</td>\n",
       "      <td>4.45</td>\n",
       "      <td>2018</td>\n",
       "      <td>954</td>\n",
       "    </tr>\n",
       "    <tr>\n",
       "      <th>16</th>\n",
       "      <td>2019</td>\n",
       "      <td>4.42</td>\n",
       "      <td>2019</td>\n",
       "      <td>998</td>\n",
       "    </tr>\n",
       "    <tr>\n",
       "      <th>17</th>\n",
       "      <td>2020</td>\n",
       "      <td>4.28</td>\n",
       "      <td>2020</td>\n",
       "      <td>1045</td>\n",
       "    </tr>\n",
       "    <tr>\n",
       "      <th>18</th>\n",
       "      <td>2021</td>\n",
       "      <td>5.63</td>\n",
       "      <td>2021</td>\n",
       "      <td>1100</td>\n",
       "    </tr>\n",
       "  </tbody>\n",
       "</table>\n",
       "</div>"
      ],
      "text/plain": [
       "     ano  preco_venda   Ano  Valor\n",
       "0   2004         2.14  2004    260\n",
       "1   2005         2.36  2005    300\n",
       "2   2006         2.59  2006    350\n",
       "3   2007         2.55  2007    380\n",
       "4   2008         2.54  2008    415\n",
       "5   2009         2.55  2009    465\n",
       "6   2010         2.60  2010    510\n",
       "7   2011         2.76  2011    545\n",
       "8   2011         2.76  2011    540\n",
       "9   2012         2.77  2012    622\n",
       "10  2013         2.89  2013    678\n",
       "11  2014         3.01  2014    724\n",
       "12  2015         3.35  2015    788\n",
       "13  2016         3.73  2016    880\n",
       "14  2017         3.77  2017    937\n",
       "15  2018         4.45  2018    954\n",
       "16  2019         4.42  2019    998\n",
       "17  2020         4.28  2020   1045\n",
       "18  2021         5.63  2021   1100"
      ]
     },
     "execution_count": 60,
     "metadata": {},
     "output_type": "execute_result"
    }
   ],
   "source": [
    "# JUNTAR OS DADOS, O ANO SERÁ USADO COMO CHAVE COMUM ENTRE OS DATA SETS\n",
    "df_gasolina_salario = pd.merge(left = df_gasolina_agrup_ano, right = df_salario, left_on = 'ano', right_on = 'Ano', how = 'left')\n",
    "# RESULTADO\n",
    "df_gasolina_salario"
   ]
  },
  {
   "cell_type": "code",
   "execution_count": 61,
   "metadata": {},
   "outputs": [
    {
     "data": {
      "text/html": [
       "<div>\n",
       "<style scoped>\n",
       "    .dataframe tbody tr th:only-of-type {\n",
       "        vertical-align: middle;\n",
       "    }\n",
       "\n",
       "    .dataframe tbody tr th {\n",
       "        vertical-align: top;\n",
       "    }\n",
       "\n",
       "    .dataframe thead th {\n",
       "        text-align: right;\n",
       "    }\n",
       "</style>\n",
       "<table border=\"1\" class=\"dataframe\">\n",
       "  <thead>\n",
       "    <tr style=\"text-align: right;\">\n",
       "      <th></th>\n",
       "      <th>ano</th>\n",
       "      <th>vlr_combust</th>\n",
       "      <th>vlr_salario</th>\n",
       "    </tr>\n",
       "  </thead>\n",
       "  <tbody>\n",
       "    <tr>\n",
       "      <th>0</th>\n",
       "      <td>2004</td>\n",
       "      <td>2.14</td>\n",
       "      <td>260</td>\n",
       "    </tr>\n",
       "    <tr>\n",
       "      <th>1</th>\n",
       "      <td>2005</td>\n",
       "      <td>2.36</td>\n",
       "      <td>300</td>\n",
       "    </tr>\n",
       "    <tr>\n",
       "      <th>2</th>\n",
       "      <td>2006</td>\n",
       "      <td>2.59</td>\n",
       "      <td>350</td>\n",
       "    </tr>\n",
       "  </tbody>\n",
       "</table>\n",
       "</div>"
      ],
      "text/plain": [
       "    ano  vlr_combust  vlr_salario\n",
       "0  2004         2.14          260\n",
       "1  2005         2.36          300\n",
       "2  2006         2.59          350"
      ]
     },
     "execution_count": 61,
     "metadata": {},
     "output_type": "execute_result"
    }
   ],
   "source": [
    "# EXCLUINDO VARIAVEL DE ANO REPETIDA\n",
    "df_gasolina_salario = df_gasolina_salario.drop(columns=['Ano'])\n",
    "# RENOMEANDO VARIAVEIS\n",
    "df_gasolina_salario = df_gasolina_salario.rename(columns = {'preco_venda': 'vlr_combust', 'Valor': 'vlr_salario'})\n",
    "# RESULTADO FINAL\n",
    "df_gasolina_salario.head(3)"
   ]
  },
  {
   "cell_type": "markdown",
   "metadata": {},
   "source": [
    "> Enriquecimento dos dados 01: calculando o quanto 35 litros (capacidade média ded um automóvel) de gasolina representam do salário mínimo. <br/>\n",
    "> Enriquecimento dos dados 02: calculando o poder de compra do salário, ou seja, quantos litros é possível comprar"
   ]
  },
  {
   "cell_type": "code",
   "execution_count": 62,
   "metadata": {},
   "outputs": [
    {
     "data": {
      "text/html": [
       "<div>\n",
       "<style scoped>\n",
       "    .dataframe tbody tr th:only-of-type {\n",
       "        vertical-align: middle;\n",
       "    }\n",
       "\n",
       "    .dataframe tbody tr th {\n",
       "        vertical-align: top;\n",
       "    }\n",
       "\n",
       "    .dataframe thead th {\n",
       "        text-align: right;\n",
       "    }\n",
       "</style>\n",
       "<table border=\"1\" class=\"dataframe\">\n",
       "  <thead>\n",
       "    <tr style=\"text-align: right;\">\n",
       "      <th></th>\n",
       "      <th>ano</th>\n",
       "      <th>vlr_combust</th>\n",
       "      <th>vlr_salario</th>\n",
       "      <th>%_salario</th>\n",
       "      <th>poder_de_compra_litros</th>\n",
       "    </tr>\n",
       "  </thead>\n",
       "  <tbody>\n",
       "    <tr>\n",
       "      <th>0</th>\n",
       "      <td>2004</td>\n",
       "      <td>2.14</td>\n",
       "      <td>260</td>\n",
       "      <td>28.807692</td>\n",
       "      <td>121.50</td>\n",
       "    </tr>\n",
       "    <tr>\n",
       "      <th>1</th>\n",
       "      <td>2005</td>\n",
       "      <td>2.36</td>\n",
       "      <td>300</td>\n",
       "      <td>27.533333</td>\n",
       "      <td>127.12</td>\n",
       "    </tr>\n",
       "    <tr>\n",
       "      <th>2</th>\n",
       "      <td>2006</td>\n",
       "      <td>2.59</td>\n",
       "      <td>350</td>\n",
       "      <td>25.900000</td>\n",
       "      <td>135.14</td>\n",
       "    </tr>\n",
       "    <tr>\n",
       "      <th>3</th>\n",
       "      <td>2007</td>\n",
       "      <td>2.55</td>\n",
       "      <td>380</td>\n",
       "      <td>23.486842</td>\n",
       "      <td>149.02</td>\n",
       "    </tr>\n",
       "    <tr>\n",
       "      <th>4</th>\n",
       "      <td>2008</td>\n",
       "      <td>2.54</td>\n",
       "      <td>415</td>\n",
       "      <td>21.421687</td>\n",
       "      <td>163.39</td>\n",
       "    </tr>\n",
       "    <tr>\n",
       "      <th>5</th>\n",
       "      <td>2009</td>\n",
       "      <td>2.55</td>\n",
       "      <td>465</td>\n",
       "      <td>19.193548</td>\n",
       "      <td>182.35</td>\n",
       "    </tr>\n",
       "    <tr>\n",
       "      <th>6</th>\n",
       "      <td>2010</td>\n",
       "      <td>2.60</td>\n",
       "      <td>510</td>\n",
       "      <td>17.843137</td>\n",
       "      <td>196.15</td>\n",
       "    </tr>\n",
       "    <tr>\n",
       "      <th>7</th>\n",
       "      <td>2011</td>\n",
       "      <td>2.76</td>\n",
       "      <td>545</td>\n",
       "      <td>17.724771</td>\n",
       "      <td>197.46</td>\n",
       "    </tr>\n",
       "    <tr>\n",
       "      <th>8</th>\n",
       "      <td>2011</td>\n",
       "      <td>2.76</td>\n",
       "      <td>540</td>\n",
       "      <td>17.888889</td>\n",
       "      <td>195.65</td>\n",
       "    </tr>\n",
       "    <tr>\n",
       "      <th>9</th>\n",
       "      <td>2012</td>\n",
       "      <td>2.77</td>\n",
       "      <td>622</td>\n",
       "      <td>15.586817</td>\n",
       "      <td>224.55</td>\n",
       "    </tr>\n",
       "    <tr>\n",
       "      <th>10</th>\n",
       "      <td>2013</td>\n",
       "      <td>2.89</td>\n",
       "      <td>678</td>\n",
       "      <td>14.918879</td>\n",
       "      <td>234.60</td>\n",
       "    </tr>\n",
       "    <tr>\n",
       "      <th>11</th>\n",
       "      <td>2014</td>\n",
       "      <td>3.01</td>\n",
       "      <td>724</td>\n",
       "      <td>14.551105</td>\n",
       "      <td>240.53</td>\n",
       "    </tr>\n",
       "    <tr>\n",
       "      <th>12</th>\n",
       "      <td>2015</td>\n",
       "      <td>3.35</td>\n",
       "      <td>788</td>\n",
       "      <td>14.879442</td>\n",
       "      <td>235.22</td>\n",
       "    </tr>\n",
       "    <tr>\n",
       "      <th>13</th>\n",
       "      <td>2016</td>\n",
       "      <td>3.73</td>\n",
       "      <td>880</td>\n",
       "      <td>14.835227</td>\n",
       "      <td>235.92</td>\n",
       "    </tr>\n",
       "    <tr>\n",
       "      <th>14</th>\n",
       "      <td>2017</td>\n",
       "      <td>3.77</td>\n",
       "      <td>937</td>\n",
       "      <td>14.082177</td>\n",
       "      <td>248.54</td>\n",
       "    </tr>\n",
       "    <tr>\n",
       "      <th>15</th>\n",
       "      <td>2018</td>\n",
       "      <td>4.45</td>\n",
       "      <td>954</td>\n",
       "      <td>16.325996</td>\n",
       "      <td>214.38</td>\n",
       "    </tr>\n",
       "    <tr>\n",
       "      <th>16</th>\n",
       "      <td>2019</td>\n",
       "      <td>4.42</td>\n",
       "      <td>998</td>\n",
       "      <td>15.501002</td>\n",
       "      <td>225.79</td>\n",
       "    </tr>\n",
       "    <tr>\n",
       "      <th>17</th>\n",
       "      <td>2020</td>\n",
       "      <td>4.28</td>\n",
       "      <td>1045</td>\n",
       "      <td>14.334928</td>\n",
       "      <td>244.16</td>\n",
       "    </tr>\n",
       "    <tr>\n",
       "      <th>18</th>\n",
       "      <td>2021</td>\n",
       "      <td>5.63</td>\n",
       "      <td>1100</td>\n",
       "      <td>17.913636</td>\n",
       "      <td>195.38</td>\n",
       "    </tr>\n",
       "  </tbody>\n",
       "</table>\n",
       "</div>"
      ],
      "text/plain": [
       "     ano  vlr_combust  vlr_salario  %_salario  poder_de_compra_litros\n",
       "0   2004         2.14          260  28.807692                  121.50\n",
       "1   2005         2.36          300  27.533333                  127.12\n",
       "2   2006         2.59          350  25.900000                  135.14\n",
       "3   2007         2.55          380  23.486842                  149.02\n",
       "4   2008         2.54          415  21.421687                  163.39\n",
       "5   2009         2.55          465  19.193548                  182.35\n",
       "6   2010         2.60          510  17.843137                  196.15\n",
       "7   2011         2.76          545  17.724771                  197.46\n",
       "8   2011         2.76          540  17.888889                  195.65\n",
       "9   2012         2.77          622  15.586817                  224.55\n",
       "10  2013         2.89          678  14.918879                  234.60\n",
       "11  2014         3.01          724  14.551105                  240.53\n",
       "12  2015         3.35          788  14.879442                  235.22\n",
       "13  2016         3.73          880  14.835227                  235.92\n",
       "14  2017         3.77          937  14.082177                  248.54\n",
       "15  2018         4.45          954  16.325996                  214.38\n",
       "16  2019         4.42          998  15.501002                  225.79\n",
       "17  2020         4.28         1045  14.334928                  244.16\n",
       "18  2021         5.63         1100  17.913636                  195.38"
      ]
     },
     "execution_count": 62,
     "metadata": {},
     "output_type": "execute_result"
    }
   ],
   "source": [
    "# CALCULAR O PERCENTUAL DO SALARIO A CADA 35 LITROS\n",
    "df_gasolina_salario['%_salario'] = (df_gasolina_salario.vlr_combust * 35 ) / df_gasolina_salario.vlr_salario * 100\n",
    "# CALCULAR O PODER DE COMPRA\n",
    "df_gasolina_salario['poder_de_compra_litros'] = round(df_gasolina_salario.vlr_salario / df_gasolina_salario.vlr_combust, 2)\n",
    "# TRANSFORMAR A VARIAVEL ANO EM STRING\n",
    "df_gasolina_salario.ano = df_gasolina_salario.ano.astype('str')\n",
    "# RESULTADO\n",
    "df_gasolina_salario"
   ]
  },
  {
   "cell_type": "markdown",
   "metadata": {},
   "source": [
    "#### ANÁLISE GRAFICA"
   ]
  },
  {
   "cell_type": "markdown",
   "metadata": {},
   "source": [
    "> O poder compra indica quantos litros é possível comprar com todo o salário mínimo. <br/>\n",
    "> No gráfico seguinte conseguimos concluir que o poder de compra da gasolina cai desde o inicio de 2020, voltando <br/>\n",
    "> ao mesmo nível de 2011."
   ]
  },
  {
   "cell_type": "code",
   "execution_count": 63,
   "metadata": {},
   "outputs": [
    {
     "data": {
      "text/html": [
       "<div>\n",
       "<style scoped>\n",
       "    .dataframe tbody tr th:only-of-type {\n",
       "        vertical-align: middle;\n",
       "    }\n",
       "\n",
       "    .dataframe tbody tr th {\n",
       "        vertical-align: top;\n",
       "    }\n",
       "\n",
       "    .dataframe thead th {\n",
       "        text-align: right;\n",
       "    }\n",
       "</style>\n",
       "<table border=\"1\" class=\"dataframe\">\n",
       "  <thead>\n",
       "    <tr style=\"text-align: right;\">\n",
       "      <th></th>\n",
       "      <th>ano</th>\n",
       "      <th>poder_de_compra_litros</th>\n",
       "    </tr>\n",
       "  </thead>\n",
       "  <tbody>\n",
       "    <tr>\n",
       "      <th>7</th>\n",
       "      <td>2011</td>\n",
       "      <td>197.46</td>\n",
       "    </tr>\n",
       "    <tr>\n",
       "      <th>8</th>\n",
       "      <td>2011</td>\n",
       "      <td>195.65</td>\n",
       "    </tr>\n",
       "    <tr>\n",
       "      <th>9</th>\n",
       "      <td>2012</td>\n",
       "      <td>224.55</td>\n",
       "    </tr>\n",
       "    <tr>\n",
       "      <th>10</th>\n",
       "      <td>2013</td>\n",
       "      <td>234.60</td>\n",
       "    </tr>\n",
       "    <tr>\n",
       "      <th>11</th>\n",
       "      <td>2014</td>\n",
       "      <td>240.53</td>\n",
       "    </tr>\n",
       "    <tr>\n",
       "      <th>12</th>\n",
       "      <td>2015</td>\n",
       "      <td>235.22</td>\n",
       "    </tr>\n",
       "    <tr>\n",
       "      <th>13</th>\n",
       "      <td>2016</td>\n",
       "      <td>235.92</td>\n",
       "    </tr>\n",
       "    <tr>\n",
       "      <th>14</th>\n",
       "      <td>2017</td>\n",
       "      <td>248.54</td>\n",
       "    </tr>\n",
       "    <tr>\n",
       "      <th>15</th>\n",
       "      <td>2018</td>\n",
       "      <td>214.38</td>\n",
       "    </tr>\n",
       "    <tr>\n",
       "      <th>16</th>\n",
       "      <td>2019</td>\n",
       "      <td>225.79</td>\n",
       "    </tr>\n",
       "    <tr>\n",
       "      <th>17</th>\n",
       "      <td>2020</td>\n",
       "      <td>244.16</td>\n",
       "    </tr>\n",
       "    <tr>\n",
       "      <th>18</th>\n",
       "      <td>2021</td>\n",
       "      <td>195.38</td>\n",
       "    </tr>\n",
       "  </tbody>\n",
       "</table>\n",
       "</div>"
      ],
      "text/plain": [
       "     ano  poder_de_compra_litros\n",
       "7   2011                  197.46\n",
       "8   2011                  195.65\n",
       "9   2012                  224.55\n",
       "10  2013                  234.60\n",
       "11  2014                  240.53\n",
       "12  2015                  235.22\n",
       "13  2016                  235.92\n",
       "14  2017                  248.54\n",
       "15  2018                  214.38\n",
       "16  2019                  225.79\n",
       "17  2020                  244.16\n",
       "18  2021                  195.38"
      ]
     },
     "metadata": {},
     "output_type": "display_data"
    },
    {
     "data": {
      "image/png": "[encoded data removed]",
      "text/plain": [
       "<Figure size 1080x360 with 1 Axes>"
      ]
     },
     "metadata": {
      "needs_background": "light"
     },
     "output_type": "display_data"
    }
   ],
   "source": [
    "fig = plt.figure(figsize=[15, 5])\n",
    "plt.title('PODER DE COMPRA DO CONSUMIDOR - SAL.MINIMO vs. GASOLINA(L)')\n",
    "sns.lineplot(x = df_gasolina_salario['ano'],\\\n",
    "             y = df_gasolina_salario['poder_de_compra_litros'],\\\n",
    "             linewidth = 3,\\\n",
    "             color = 'red')\n",
    "plt.ylabel('LITROS')\n",
    "plt.xlabel(' ') ;\n",
    "\n",
    "display(df_gasolina_salario[['ano', 'poder_de_compra_litros']].tail(12))"
   ]
  },
  {
   "cell_type": "markdown",
   "metadata": {},
   "source": [
    "> No ano de 2021 o poder de compra caiu em relação ao ano de 2020"
   ]
  },
  {
   "cell_type": "code",
   "execution_count": 90,
   "metadata": {},
   "outputs": [
    {
     "data": {
      "text/plain": [
       "'O poder de compra da gasolina caiu -19.98% de 2020 para 2021'"
      ]
     },
     "metadata": {},
     "output_type": "display_data"
    }
   ],
   "source": [
    "poder_2020 = df_gasolina_salario['poder_de_compra_litros'][df_gasolina_salario.ano == '2020'].item()\n",
    "poder_2021 = df_gasolina_salario['poder_de_compra_litros'][df_gasolina_salario.ano == '2021'].item()\n",
    "poder_20x21 = (f'{round((poder_2021 / poder_2020 - 1) * 100, 2)}%')\n",
    "display(f'O poder de compra da gasolina caiu {poder_20x21} de 2020 para 2021')\n"
   ]
  },
  {
   "cell_type": "markdown",
   "metadata": {},
   "source": [
    "> Levando em consideração o tamanho médio do tanque dos automóveis, de 35 litros, podemos verificar também que <br/>\n",
    "> para encher o tanque o consumidor passou a dedicar quase 18% do salario em 2021 contra 14% em 2020."
   ]
  },
  {
   "cell_type": "code",
   "execution_count": 93,
   "metadata": {},
   "outputs": [
    {
     "data": {
      "text/html": [
       "<div>\n",
       "<style scoped>\n",
       "    .dataframe tbody tr th:only-of-type {\n",
       "        vertical-align: middle;\n",
       "    }\n",
       "\n",
       "    .dataframe tbody tr th {\n",
       "        vertical-align: top;\n",
       "    }\n",
       "\n",
       "    .dataframe thead th {\n",
       "        text-align: right;\n",
       "    }\n",
       "</style>\n",
       "<table border=\"1\" class=\"dataframe\">\n",
       "  <thead>\n",
       "    <tr style=\"text-align: right;\">\n",
       "      <th></th>\n",
       "      <th>ano</th>\n",
       "      <th>%_salario</th>\n",
       "    </tr>\n",
       "  </thead>\n",
       "  <tbody>\n",
       "    <tr>\n",
       "      <th>17</th>\n",
       "      <td>2020</td>\n",
       "      <td>14.334928</td>\n",
       "    </tr>\n",
       "    <tr>\n",
       "      <th>18</th>\n",
       "      <td>2021</td>\n",
       "      <td>17.913636</td>\n",
       "    </tr>\n",
       "  </tbody>\n",
       "</table>\n",
       "</div>"
      ],
      "text/plain": [
       "     ano  %_salario\n",
       "17  2020  14.334928\n",
       "18  2021  17.913636"
      ]
     },
     "metadata": {},
     "output_type": "display_data"
    },
    {
     "data": {
      "image/png": "[encoded data removed]",
      "text/plain": [
       "<Figure size 1080x360 with 1 Axes>"
      ]
     },
     "metadata": {
      "needs_background": "light"
     },
     "output_type": "display_data"
    }
   ],
   "source": [
    "fig = plt.figure(figsize=[15, 5])\n",
    "plt.title('% GASOLINA vs. SALARIO MÍNIMO')\n",
    "sns.lineplot(x = df_gasolina_salario['ano'],\\\n",
    "             y = df_gasolina_salario['%_salario'],\\\n",
    "             linewidth = 3,\n",
    "             color = 'grey')\n",
    "plt.ylabel('% SALARIO')\n",
    "plt.xlabel(' ') ;\n",
    "\n",
    "display(df_gasolina_salario[['ano', '%_salario']].tail(2))"
   ]
  },
  {
   "cell_type": "markdown",
   "metadata": {},
   "source": [
    "> No gráfico de boxplot abaixo podemos verificar não somente o aumento da gasolina em relação aos anos <br/>\n",
    "> anteriores, mas tambem foi o ano com a maior variação dos preços, representado pelos pontos de outliers <br/>\n",
    "> e uma maior abertura do corpo do box."
   ]
  },
  {
   "cell_type": "code",
   "execution_count": 19,
   "metadata": {},
   "outputs": [
    {
     "data": {
      "image/png": "[encoded data removed]",
      "text/plain": [
       "<Figure size 1080x360 with 1 Axes>"
      ]
     },
     "metadata": {
      "needs_background": "light"
     },
     "output_type": "display_data"
    }
   ],
   "source": [
    "fig = plt.figure(figsize=[15, 5])\n",
    "plt.title('VARIAÇÃO DO PREÇO DA GASOLINA POR ANO - ESTADOS')\n",
    "sns.boxplot(x = df_gasolina['ano'], y = df_gasolina['preco_venda'])\n",
    "plt.ylabel('R$ LITRO')\n",
    "plt.xlabel(' ') ;"
   ]
  },
  {
   "cell_type": "markdown",
   "metadata": {},
   "source": [
    "> Abaixo a variação dos preços por estado no ano de 2021"
   ]
  },
  {
   "cell_type": "code",
   "execution_count": 20,
   "metadata": {},
   "outputs": [
    {
     "data": {
      "image/png": "[encoded data removed]",
      "text/plain": [
       "<Figure size 1080x360 with 1 Axes>"
      ]
     },
     "metadata": {
      "needs_background": "light"
     },
     "output_type": "display_data"
    }
   ],
   "source": [
    "fig = plt.figure(figsize=[15, 5])\n",
    "plt.title('VARIAÇÃO DO PREÇO DA GASOLINA POR ESTADO - ANO 2021')\n",
    "sns.boxplot(x = df_gasolina['sigla_uf'], y = df_gasolina['preco_venda'][df_gasolina.ano == 2021])\n",
    "plt.ylabel('R$ LITRO')\n",
    "plt.xlabel(' ') ;\n"
   ]
  },
  {
   "cell_type": "markdown",
   "metadata": {},
   "source": [
    "> Abaixo o preço médio por estado no ano de 2021. <br/>\n",
    "> Acre (AC) ocupando a primeira colocação e Amapá (AP) a última"
   ]
  },
  {
   "cell_type": "code",
   "execution_count": 21,
   "metadata": {},
   "outputs": [
    {
     "data": {
      "image/png": "[encoded data removed]",
      "text/plain": [
       "<Figure size 1080x360 with 1 Axes>"
      ]
     },
     "metadata": {
      "needs_background": "light"
     },
     "output_type": "display_data"
    }
   ],
   "source": [
    "df_gasolina_uf_2021 = df_gasolina[df_gasolina.ano == 2021].groupby(by = 'sigla_uf').agg({'preco_venda': 'mean'}).reset_index()\n",
    "df_gasolina_uf_2021 = df_gasolina_uf_2021.sort_values(by = 'preco_venda', ascending = False)\n",
    "\n",
    "fig = plt.figure(figsize=[15, 5])\n",
    "plt.title('PREÇO MEDIO DA GASOLINA POR ESTADO - ANO 2021')\n",
    "sns.barplot(x = df_gasolina_uf_2021['sigla_uf'], y = df_gasolina_uf_2021['preco_venda'])\n",
    "plt.ylabel('R$ LITRO')\n",
    "plt.xlabel(' ') ;\n"
   ]
  },
  {
   "cell_type": "markdown",
   "metadata": {},
   "source": [
    "> Plotando as cinco maiores bandeiras pesquisadas em 2021 <br/>\n",
    "> Verifica-se que, entre as 5+, 40% das pesquisas foram feitas em postos com Bandeira Branca (postos não filiados <br/>\n",
    "> à marcas famosas nacionais ou internacionais)"
   ]
  },
  {
   "cell_type": "code",
   "execution_count": null,
   "metadata": {},
   "outputs": [
    {
     "data": {
      "text/html": [
       "<div>\n",
       "<style scoped>\n",
       "    .dataframe tbody tr th:only-of-type {\n",
       "        vertical-align: middle;\n",
       "    }\n",
       "\n",
       "    .dataframe tbody tr th {\n",
       "        vertical-align: top;\n",
       "    }\n",
       "\n",
       "    .dataframe thead th {\n",
       "        text-align: right;\n",
       "    }\n",
       "</style>\n",
       "<table border=\"1\" class=\"dataframe\">\n",
       "  <thead>\n",
       "    <tr style=\"text-align: right;\">\n",
       "      <th></th>\n",
       "      <th>bandeira</th>\n",
       "      <th>contagem</th>\n",
       "      <th>%</th>\n",
       "    </tr>\n",
       "  </thead>\n",
       "  <tbody>\n",
       "    <tr>\n",
       "      <th>0</th>\n",
       "      <td>BRANCA</td>\n",
       "      <td>58095</td>\n",
       "      <td>40.41</td>\n",
       "    </tr>\n",
       "    <tr>\n",
       "      <th>1</th>\n",
       "      <td>PETROBRAS DISTRIBUIDORA S.A.</td>\n",
       "      <td>32141</td>\n",
       "      <td>22.36</td>\n",
       "    </tr>\n",
       "    <tr>\n",
       "      <th>2</th>\n",
       "      <td>IPIRANGA</td>\n",
       "      <td>25661</td>\n",
       "      <td>17.85</td>\n",
       "    </tr>\n",
       "    <tr>\n",
       "      <th>3</th>\n",
       "      <td>RAIZEN</td>\n",
       "      <td>24502</td>\n",
       "      <td>17.04</td>\n",
       "    </tr>\n",
       "    <tr>\n",
       "      <th>4</th>\n",
       "      <td>ALESAT</td>\n",
       "      <td>3367</td>\n",
       "      <td>2.34</td>\n",
       "    </tr>\n",
       "  </tbody>\n",
       "</table>\n",
       "</div>"
      ],
      "text/plain": [
       "                       bandeira  contagem      %\n",
       "0                        BRANCA     58095  40.41\n",
       "1  PETROBRAS DISTRIBUIDORA S.A.     32141  22.36\n",
       "2                      IPIRANGA     25661  17.85\n",
       "3                        RAIZEN     24502  17.04\n",
       "4                        ALESAT      3367   2.34"
      ]
     },
     "metadata": {},
     "output_type": "display_data"
    },
    {
     "data": {
      "image/png": "[encoded data removed]",
      "text/plain": [
       "<Figure size 432x288 with 1 Axes>"
      ]
     },
     "metadata": {
      "needs_background": "light"
     },
     "output_type": "display_data"
    }
   ],
   "source": [
    "df_band_2021 = pd.DataFrame(df_gasolina.bandeira_revenda[df_gasolina.ano == 2021].value_counts().head(5).reset_index())\n",
    "df_band_2021 = df_band_2021.rename(columns = {'index': 'bandeira', 'bandeira_revenda': 'contagem'})\n",
    "df_band_2021['%'] = round(df_band_2021['contagem'] / sum(df_band_2021['contagem']) * 100, 2)\n",
    "display(df_band_2021)\n",
    "\n",
    "df_band_2021[['bandeira', '%']].sort_values('%', ascending = True)\\\n",
    "                               .plot(kind = 'barh', x = 'bandeira', legend = '', color = 'blue') ;"
   ]
  },
  {
   "cell_type": "markdown",
   "metadata": {},
   "source": [
    "> Plotar tabela com as 5 maiores bandeiras pesquisadas em 2021, por estado. <br/>\n",
    "> Utilizarei a função de PIVOTAR a tabela (pivot_table)"
   ]
  },
  {
   "cell_type": "code",
   "execution_count": null,
   "metadata": {},
   "outputs": [
    {
     "data": {
      "text/plain": [
       "['BRANCA', 'PETROBRAS DISTRIBUIDORA S.A.', 'IPIRANGA', 'RAIZEN', 'ALESAT']"
      ]
     },
     "execution_count": 139,
     "metadata": {},
     "output_type": "execute_result"
    }
   ],
   "source": [
    "# VARIAVEL COM LISTA DAS 5 MAIORES BANDEIRAS PESQUISADAS EM 2021\n",
    "lista_bandeira_2021 = list(df_band_2021.bandeira)\n",
    "lista_bandeira_2021"
   ]
  },
  {
   "cell_type": "code",
   "execution_count": null,
   "metadata": {},
   "outputs": [],
   "source": [
    "# CRIAR UM NOVO DF EPENAS COM AS BANDEIRAS SELECIONADAS NA VARIAVEL ANTERIOR\n",
    "df_band_uf_2021 = df_gasolina[df_gasolina['bandeira_revenda'].isin(lista_bandeira_2021)][df_gasolina.ano == 2021]\n",
    "\n",
    "# ALTERA O DF SELECIONAOD APENAS AS VARIAVEIS 'UF' E 'BANDEIRA'\n",
    "df_band_uf_2021 = df_band_uf_2021[['sigla_uf', 'bandeira_revenda']]"
   ]
  },
  {
   "cell_type": "code",
   "execution_count": null,
   "metadata": {},
   "outputs": [
    {
     "data": {
      "text/html": [
       "<div>\n",
       "<style scoped>\n",
       "    .dataframe tbody tr th:only-of-type {\n",
       "        vertical-align: middle;\n",
       "    }\n",
       "\n",
       "    .dataframe tbody tr th {\n",
       "        vertical-align: top;\n",
       "    }\n",
       "\n",
       "    .dataframe thead th {\n",
       "        text-align: right;\n",
       "    }\n",
       "</style>\n",
       "<table border=\"1\" class=\"dataframe\">\n",
       "  <thead>\n",
       "    <tr style=\"text-align: right;\">\n",
       "      <th>bandeira</th>\n",
       "      <th>ALESAT</th>\n",
       "      <th>BRANCA</th>\n",
       "      <th>IPIRANGA</th>\n",
       "      <th>PETROBRAS</th>\n",
       "      <th>RAIZEN</th>\n",
       "    </tr>\n",
       "    <tr>\n",
       "      <th>uf</th>\n",
       "      <th></th>\n",
       "      <th></th>\n",
       "      <th></th>\n",
       "      <th></th>\n",
       "      <th></th>\n",
       "    </tr>\n",
       "  </thead>\n",
       "  <tbody>\n",
       "    <tr>\n",
       "      <th>AC</th>\n",
       "      <td></td>\n",
       "      <td>107.0</td>\n",
       "      <td>106.0</td>\n",
       "      <td>889.0</td>\n",
       "      <td>31.0</td>\n",
       "    </tr>\n",
       "    <tr>\n",
       "      <th>AL</th>\n",
       "      <td>29.0</td>\n",
       "      <td>608.0</td>\n",
       "      <td>141.0</td>\n",
       "      <td>526.0</td>\n",
       "      <td>271.0</td>\n",
       "    </tr>\n",
       "    <tr>\n",
       "      <th>AM</th>\n",
       "      <td></td>\n",
       "      <td>490.0</td>\n",
       "      <td>165.0</td>\n",
       "      <td>362.0</td>\n",
       "      <td>73.0</td>\n",
       "    </tr>\n",
       "    <tr>\n",
       "      <th>AP</th>\n",
       "      <td></td>\n",
       "      <td>589.0</td>\n",
       "      <td>106.0</td>\n",
       "      <td>242.0</td>\n",
       "      <td></td>\n",
       "    </tr>\n",
       "    <tr>\n",
       "      <th>BA</th>\n",
       "      <td>88.0</td>\n",
       "      <td>3076.0</td>\n",
       "      <td>224.0</td>\n",
       "      <td>1613.0</td>\n",
       "      <td>1300.0</td>\n",
       "    </tr>\n",
       "    <tr>\n",
       "      <th>CE</th>\n",
       "      <td>221.0</td>\n",
       "      <td>1568.0</td>\n",
       "      <td>713.0</td>\n",
       "      <td>1980.0</td>\n",
       "      <td>1886.0</td>\n",
       "    </tr>\n",
       "    <tr>\n",
       "      <th>DF</th>\n",
       "      <td></td>\n",
       "      <td>577.0</td>\n",
       "      <td>343.0</td>\n",
       "      <td>328.0</td>\n",
       "      <td>406.0</td>\n",
       "    </tr>\n",
       "    <tr>\n",
       "      <th>ES</th>\n",
       "      <td>92.0</td>\n",
       "      <td>712.0</td>\n",
       "      <td>408.0</td>\n",
       "      <td>822.0</td>\n",
       "      <td>577.0</td>\n",
       "    </tr>\n",
       "    <tr>\n",
       "      <th>GO</th>\n",
       "      <td>274.0</td>\n",
       "      <td>2119.0</td>\n",
       "      <td>582.0</td>\n",
       "      <td>693.0</td>\n",
       "      <td>519.0</td>\n",
       "    </tr>\n",
       "    <tr>\n",
       "      <th>MA</th>\n",
       "      <td>121.0</td>\n",
       "      <td>756.0</td>\n",
       "      <td>391.0</td>\n",
       "      <td>377.0</td>\n",
       "      <td>50.0</td>\n",
       "    </tr>\n",
       "    <tr>\n",
       "      <th>MG</th>\n",
       "      <td>726.0</td>\n",
       "      <td>4241.0</td>\n",
       "      <td>1800.0</td>\n",
       "      <td>3163.0</td>\n",
       "      <td>2176.0</td>\n",
       "    </tr>\n",
       "    <tr>\n",
       "      <th>MS</th>\n",
       "      <td></td>\n",
       "      <td>380.0</td>\n",
       "      <td>347.0</td>\n",
       "      <td>692.0</td>\n",
       "      <td>227.0</td>\n",
       "    </tr>\n",
       "    <tr>\n",
       "      <th>MT</th>\n",
       "      <td>7.0</td>\n",
       "      <td>2156.0</td>\n",
       "      <td>476.0</td>\n",
       "      <td>1161.0</td>\n",
       "      <td>786.0</td>\n",
       "    </tr>\n",
       "    <tr>\n",
       "      <th>PA</th>\n",
       "      <td>15.0</td>\n",
       "      <td>691.0</td>\n",
       "      <td>595.0</td>\n",
       "      <td>444.0</td>\n",
       "      <td>52.0</td>\n",
       "    </tr>\n",
       "    <tr>\n",
       "      <th>PB</th>\n",
       "      <td>157.0</td>\n",
       "      <td>454.0</td>\n",
       "      <td>314.0</td>\n",
       "      <td>449.0</td>\n",
       "      <td>290.0</td>\n",
       "    </tr>\n",
       "    <tr>\n",
       "      <th>PE</th>\n",
       "      <td>106.0</td>\n",
       "      <td>1805.0</td>\n",
       "      <td>299.0</td>\n",
       "      <td>1418.0</td>\n",
       "      <td>673.0</td>\n",
       "    </tr>\n",
       "    <tr>\n",
       "      <th>PI</th>\n",
       "      <td></td>\n",
       "      <td>705.0</td>\n",
       "      <td>273.0</td>\n",
       "      <td>542.0</td>\n",
       "      <td>14.0</td>\n",
       "    </tr>\n",
       "    <tr>\n",
       "      <th>PR</th>\n",
       "      <td>36.0</td>\n",
       "      <td>3558.0</td>\n",
       "      <td>2081.0</td>\n",
       "      <td>1411.0</td>\n",
       "      <td>1761.0</td>\n",
       "    </tr>\n",
       "    <tr>\n",
       "      <th>RJ</th>\n",
       "      <td>269.0</td>\n",
       "      <td>4564.0</td>\n",
       "      <td>1252.0</td>\n",
       "      <td>1992.0</td>\n",
       "      <td>2071.0</td>\n",
       "    </tr>\n",
       "    <tr>\n",
       "      <th>RN</th>\n",
       "      <td>149.0</td>\n",
       "      <td>423.0</td>\n",
       "      <td>139.0</td>\n",
       "      <td>683.0</td>\n",
       "      <td>137.0</td>\n",
       "    </tr>\n",
       "    <tr>\n",
       "      <th>RO</th>\n",
       "      <td></td>\n",
       "      <td>240.0</td>\n",
       "      <td>426.0</td>\n",
       "      <td>408.0</td>\n",
       "      <td></td>\n",
       "    </tr>\n",
       "    <tr>\n",
       "      <th>RR</th>\n",
       "      <td></td>\n",
       "      <td>136.0</td>\n",
       "      <td>30.0</td>\n",
       "      <td>217.0</td>\n",
       "      <td></td>\n",
       "    </tr>\n",
       "    <tr>\n",
       "      <th>RS</th>\n",
       "      <td>44.0</td>\n",
       "      <td>2805.0</td>\n",
       "      <td>2692.0</td>\n",
       "      <td>1963.0</td>\n",
       "      <td>1520.0</td>\n",
       "    </tr>\n",
       "    <tr>\n",
       "      <th>SC</th>\n",
       "      <td>422.0</td>\n",
       "      <td>1916.0</td>\n",
       "      <td>1596.0</td>\n",
       "      <td>1155.0</td>\n",
       "      <td>116.0</td>\n",
       "    </tr>\n",
       "    <tr>\n",
       "      <th>SE</th>\n",
       "      <td></td>\n",
       "      <td>241.0</td>\n",
       "      <td></td>\n",
       "      <td>524.0</td>\n",
       "      <td>175.0</td>\n",
       "    </tr>\n",
       "    <tr>\n",
       "      <th>SP</th>\n",
       "      <td>571.0</td>\n",
       "      <td>22793.0</td>\n",
       "      <td>10042.0</td>\n",
       "      <td>7832.0</td>\n",
       "      <td>9274.0</td>\n",
       "    </tr>\n",
       "    <tr>\n",
       "      <th>TO</th>\n",
       "      <td>40.0</td>\n",
       "      <td>385.0</td>\n",
       "      <td>120.0</td>\n",
       "      <td>255.0</td>\n",
       "      <td>117.0</td>\n",
       "    </tr>\n",
       "  </tbody>\n",
       "</table>\n",
       "</div>"
      ],
      "text/plain": [
       "bandeira ALESAT   BRANCA IPIRANGA  PETROBRAS   RAIZEN\n",
       "uf                                                   \n",
       "AC                 107.0    106.0       889.0    31.0\n",
       "AL         29.0    608.0    141.0       526.0   271.0\n",
       "AM                 490.0    165.0       362.0    73.0\n",
       "AP                 589.0    106.0       242.0        \n",
       "BA         88.0   3076.0    224.0      1613.0  1300.0\n",
       "CE        221.0   1568.0    713.0      1980.0  1886.0\n",
       "DF                 577.0    343.0       328.0   406.0\n",
       "ES         92.0    712.0    408.0       822.0   577.0\n",
       "GO        274.0   2119.0    582.0       693.0   519.0\n",
       "MA        121.0    756.0    391.0       377.0    50.0\n",
       "MG        726.0   4241.0   1800.0      3163.0  2176.0\n",
       "MS                 380.0    347.0       692.0   227.0\n",
       "MT          7.0   2156.0    476.0      1161.0   786.0\n",
       "PA         15.0    691.0    595.0       444.0    52.0\n",
       "PB        157.0    454.0    314.0       449.0   290.0\n",
       "PE        106.0   1805.0    299.0      1418.0   673.0\n",
       "PI                 705.0    273.0       542.0    14.0\n",
       "PR         36.0   3558.0   2081.0      1411.0  1761.0\n",
       "RJ        269.0   4564.0   1252.0      1992.0  2071.0\n",
       "RN        149.0    423.0    139.0       683.0   137.0\n",
       "RO                 240.0    426.0       408.0        \n",
       "RR                 136.0     30.0       217.0        \n",
       "RS         44.0   2805.0   2692.0      1963.0  1520.0\n",
       "SC        422.0   1916.0   1596.0      1155.0   116.0\n",
       "SE                 241.0                524.0   175.0\n",
       "SP        571.0  22793.0  10042.0      7832.0  9274.0\n",
       "TO         40.0    385.0    120.0       255.0   117.0"
      ]
     },
     "execution_count": 202,
     "metadata": {},
     "output_type": "execute_result"
    }
   ],
   "source": [
    "# AGRUPANDO AS VARIAVEIS PARA QUE NÃO TENHAMOS VARIAVEIS REPETIDAS NO DF\n",
    "df_band_uf_2021 = df_band_uf_2021.value_counts().reset_index().rename(columns = {'sigla_uf': 'uf',\n",
    "                                                                                 'bandeira_revenda': 'bandeira',\n",
    "                                                                                  0: 'contagem'})\n",
    "\n",
    "# DIMINUIR O NOME DAS BANDEIRAS PARA 10 CARACTERES\n",
    "df_band_uf_2021.bandeira = df_band_uf_2021.bandeira.apply(lambda x: x[:10])\n",
    "\n",
    "# TABELA DE PESQUISAS POR ESTADO EM 2021\n",
    "df_band_uf_2021.pivot_table(index='uf', columns = 'bandeira', values='contagem', fill_value='' )"
   ]
  },
  {
   "cell_type": "code",
   "execution_count": 96,
   "metadata": {},
   "outputs": [
    {
     "data": {
      "image/png": "[encoded data removed]",
      "text/plain": [
       "<Figure size 1080x360 with 1 Axes>"
      ]
     },
     "metadata": {
      "needs_background": "light"
     },
     "output_type": "display_data"
    }
   ],
   "source": [
    "fig = plt.figure(figsize = [15, 5])\n",
    "plt.title('PODER DE COMPRA DO CONSUMIDOR - SAL.MINIMO vs. GASOLINA(L)')\n",
    "sns.lineplot(x = df_gasolina_salario['ano'],\\\n",
    "             y = df_gasolina_salario['poder_de_compra_litros'],\\\n",
    "             linewidth = 3,\\\n",
    "             color = 'red')\n",
    "plt.ylabel('LITROS')\n",
    "plt.xlabel('') ;"
   ]
  }
 ],
 "metadata": {
  "interpreter": {
   "hash": "d147db1497c7b0a2e0923979629fd615caeb7859b018ab3a8e2836d654f56550"
  },
  "kernelspec": {
   "display_name": "Python 3.8.0 64-bit",
   "language": "python",
   "name": "python3"
  },
  "language_info": {
   "codemirror_mode": {
    "name": "ipython",
    "version": 3
   },
   "file_extension": ".py",
   "mimetype": "text/x-python",
   "name": "python",
   "nbconvert_exporter": "python",
   "pygments_lexer": "ipython3",
   "version": "3.8.0"
  },
  "orig_nbformat": 4
 },
 "nbformat": 4,
 "nbformat_minor": 2
}
